{
 "cells": [
  {
   "cell_type": "markdown",
   "id": "65e380a7",
   "metadata": {},
   "source": [
    "# Projeto Árvore de Decisão\n",
    "## Nivel de adaptação do estudante online."
   ]
  },
  {
   "cell_type": "markdown",
   "id": "9a9297b5",
   "metadata": {},
   "source": [
    "# Método\n",
    "\n",
    "Trabalhando com base em nosso DataFrame selecionado, optei por realizar o modelo de árvore de decisão, afinal o modelo pode lidar com grandes conjuntos de dados e pode prever variáveis binárias categóricas e quantitativas. O algoritmo foi criado em 1983 por J. Ross Quinlan e por isso é conhecido como o \"Pai das Árvores de Decisão\". Uma árvore de decisão é uma representação visual de todos os caminhos de ação possíveis que uma pessoa pode seguir para tomar uma decisão. Ou seja, é uma ferramenta de representação visual que pode auxiliar na tomada de decisões, orientando diferentes caminhos.\n",
    "\n",
    "Uma árvore de decisão consiste em várias formas gráficas (símbolos), muito semelhante a um fluxograma. Esses símbolos formam nós e ramos que dão forma à árvore e organizam os caminhos a serem seguidos pelas decisões. Um nó pode corresponder a uma ação, probabilidade, condição ou decisão a ser tomada. Ramificações representam caminhos que podem ser seguidos, ou seja, links entre nós. Normalmente, as árvores de decisão começam com um único nó, raiz, que se ramifica para outros nós contendo possíveis opções ou resultados. Cada uma dessas ramificações leva a outros nós que são subdivididos em outros nós filhos. Esse comportamento se repete até que todas as possibilidades sejam mapeadas, resultando em uma estrutura em árvore.\n",
    "\n",
    "Comumente, as árvores de decisão são construídas horizontalmente, começando no lado esquerdo da página e movendo-se para a direita, mas algumas pessoas preferem construir verticalmente, de cima para baixo. O importante aqui é que a árvore seja construída de forma hierárquica, ou seja, as dependências entre os nós são bem definidas, claras e seguem a ordem dos eventos."
   ]
  },
  {
   "cell_type": "markdown",
   "id": "7488180a",
   "metadata": {},
   "source": [
    "## Bibliotecas Utilizadas:"
   ]
  },
  {
   "cell_type": "markdown",
   "id": "016684c0",
   "metadata": {},
   "source": [
    "Bibliotecas pandas para leitura, implentação e tratamento dos dados, árvore de decisão para filtrar o texto e sklearn como base para gerar treino, teste e predict."
   ]
  },
  {
   "cell_type": "code",
   "execution_count": 3,
   "id": "77bfdeaf",
   "metadata": {},
   "outputs": [],
   "source": [
    "#Importações árvore de decisão\n",
    "import pandas as pd\n",
    "from sklearn.model_selection import train_test_split \n",
    "from sklearn.tree import DecisionTreeClassifier\n",
    "from sklearn.model_selection import GridSearchCV\n",
    "import matplotlib.pyplot as plt\n",
    "from sklearn import tree\n",
    "from sklearn.metrics import classification_report\n",
    "from sklearn.metrics import confusion_matrix\n",
    "from sklearn.metrics import ConfusionMatrixDisplay\n",
    "import seaborn as sns"
   ]
  },
  {
   "cell_type": "markdown",
   "id": "283fe41f",
   "metadata": {},
   "source": [
    "## Leitura e visualização do Dataset."
   ]
  },
  {
   "cell_type": "code",
   "execution_count": 4,
   "id": "6a0f4dc2",
   "metadata": {
    "scrolled": false
   },
   "outputs": [
    {
     "data": {
      "text/html": [
       "<div>\n",
       "<style scoped>\n",
       "    .dataframe tbody tr th:only-of-type {\n",
       "        vertical-align: middle;\n",
       "    }\n",
       "\n",
       "    .dataframe tbody tr th {\n",
       "        vertical-align: top;\n",
       "    }\n",
       "\n",
       "    .dataframe thead th {\n",
       "        text-align: right;\n",
       "    }\n",
       "</style>\n",
       "<table border=\"1\" class=\"dataframe\">\n",
       "  <thead>\n",
       "    <tr style=\"text-align: right;\">\n",
       "      <th></th>\n",
       "      <th>Gender</th>\n",
       "      <th>Age</th>\n",
       "      <th>Education Level</th>\n",
       "      <th>Institution Type</th>\n",
       "      <th>IT Student</th>\n",
       "      <th>Location</th>\n",
       "      <th>Load-shedding</th>\n",
       "      <th>Financial Condition</th>\n",
       "      <th>Internet Type</th>\n",
       "      <th>Network Type</th>\n",
       "      <th>Class Duration</th>\n",
       "      <th>Self Lms</th>\n",
       "      <th>Device</th>\n",
       "      <th>Adaptivity Level</th>\n",
       "    </tr>\n",
       "  </thead>\n",
       "  <tbody>\n",
       "    <tr>\n",
       "      <th>0</th>\n",
       "      <td>Boy</td>\n",
       "      <td>21-25</td>\n",
       "      <td>University</td>\n",
       "      <td>Non Government</td>\n",
       "      <td>No</td>\n",
       "      <td>Yes</td>\n",
       "      <td>Low</td>\n",
       "      <td>Mid</td>\n",
       "      <td>Wifi</td>\n",
       "      <td>4G</td>\n",
       "      <td>3-6</td>\n",
       "      <td>No</td>\n",
       "      <td>Tab</td>\n",
       "      <td>Moderate</td>\n",
       "    </tr>\n",
       "    <tr>\n",
       "      <th>1</th>\n",
       "      <td>Girl</td>\n",
       "      <td>21-25</td>\n",
       "      <td>University</td>\n",
       "      <td>Non Government</td>\n",
       "      <td>No</td>\n",
       "      <td>Yes</td>\n",
       "      <td>High</td>\n",
       "      <td>Mid</td>\n",
       "      <td>Mobile Data</td>\n",
       "      <td>4G</td>\n",
       "      <td>1-3</td>\n",
       "      <td>Yes</td>\n",
       "      <td>Mobile</td>\n",
       "      <td>Moderate</td>\n",
       "    </tr>\n",
       "    <tr>\n",
       "      <th>2</th>\n",
       "      <td>Girl</td>\n",
       "      <td>16-20</td>\n",
       "      <td>College</td>\n",
       "      <td>Government</td>\n",
       "      <td>No</td>\n",
       "      <td>Yes</td>\n",
       "      <td>Low</td>\n",
       "      <td>Mid</td>\n",
       "      <td>Wifi</td>\n",
       "      <td>4G</td>\n",
       "      <td>1-3</td>\n",
       "      <td>No</td>\n",
       "      <td>Mobile</td>\n",
       "      <td>Moderate</td>\n",
       "    </tr>\n",
       "    <tr>\n",
       "      <th>3</th>\n",
       "      <td>Girl</td>\n",
       "      <td>11-15</td>\n",
       "      <td>School</td>\n",
       "      <td>Non Government</td>\n",
       "      <td>No</td>\n",
       "      <td>Yes</td>\n",
       "      <td>Low</td>\n",
       "      <td>Mid</td>\n",
       "      <td>Mobile Data</td>\n",
       "      <td>4G</td>\n",
       "      <td>1-3</td>\n",
       "      <td>No</td>\n",
       "      <td>Mobile</td>\n",
       "      <td>Moderate</td>\n",
       "    </tr>\n",
       "    <tr>\n",
       "      <th>4</th>\n",
       "      <td>Girl</td>\n",
       "      <td>16-20</td>\n",
       "      <td>School</td>\n",
       "      <td>Non Government</td>\n",
       "      <td>No</td>\n",
       "      <td>Yes</td>\n",
       "      <td>Low</td>\n",
       "      <td>Poor</td>\n",
       "      <td>Mobile Data</td>\n",
       "      <td>3G</td>\n",
       "      <td>0</td>\n",
       "      <td>No</td>\n",
       "      <td>Mobile</td>\n",
       "      <td>Low</td>\n",
       "    </tr>\n",
       "    <tr>\n",
       "      <th>...</th>\n",
       "      <td>...</td>\n",
       "      <td>...</td>\n",
       "      <td>...</td>\n",
       "      <td>...</td>\n",
       "      <td>...</td>\n",
       "      <td>...</td>\n",
       "      <td>...</td>\n",
       "      <td>...</td>\n",
       "      <td>...</td>\n",
       "      <td>...</td>\n",
       "      <td>...</td>\n",
       "      <td>...</td>\n",
       "      <td>...</td>\n",
       "      <td>...</td>\n",
       "    </tr>\n",
       "    <tr>\n",
       "      <th>1200</th>\n",
       "      <td>Girl</td>\n",
       "      <td>16-20</td>\n",
       "      <td>College</td>\n",
       "      <td>Non Government</td>\n",
       "      <td>No</td>\n",
       "      <td>Yes</td>\n",
       "      <td>Low</td>\n",
       "      <td>Mid</td>\n",
       "      <td>Wifi</td>\n",
       "      <td>4G</td>\n",
       "      <td>1-3</td>\n",
       "      <td>No</td>\n",
       "      <td>Mobile</td>\n",
       "      <td>Low</td>\n",
       "    </tr>\n",
       "    <tr>\n",
       "      <th>1201</th>\n",
       "      <td>Girl</td>\n",
       "      <td>16-20</td>\n",
       "      <td>College</td>\n",
       "      <td>Non Government</td>\n",
       "      <td>No</td>\n",
       "      <td>No</td>\n",
       "      <td>High</td>\n",
       "      <td>Mid</td>\n",
       "      <td>Wifi</td>\n",
       "      <td>4G</td>\n",
       "      <td>3-6</td>\n",
       "      <td>No</td>\n",
       "      <td>Mobile</td>\n",
       "      <td>Moderate</td>\n",
       "    </tr>\n",
       "    <tr>\n",
       "      <th>1202</th>\n",
       "      <td>Boy</td>\n",
       "      <td>11-15</td>\n",
       "      <td>School</td>\n",
       "      <td>Non Government</td>\n",
       "      <td>No</td>\n",
       "      <td>Yes</td>\n",
       "      <td>Low</td>\n",
       "      <td>Mid</td>\n",
       "      <td>Mobile Data</td>\n",
       "      <td>3G</td>\n",
       "      <td>1-3</td>\n",
       "      <td>No</td>\n",
       "      <td>Mobile</td>\n",
       "      <td>Moderate</td>\n",
       "    </tr>\n",
       "    <tr>\n",
       "      <th>1203</th>\n",
       "      <td>Girl</td>\n",
       "      <td>16-20</td>\n",
       "      <td>College</td>\n",
       "      <td>Non Government</td>\n",
       "      <td>No</td>\n",
       "      <td>No</td>\n",
       "      <td>Low</td>\n",
       "      <td>Mid</td>\n",
       "      <td>Wifi</td>\n",
       "      <td>4G</td>\n",
       "      <td>1-3</td>\n",
       "      <td>No</td>\n",
       "      <td>Mobile</td>\n",
       "      <td>Low</td>\n",
       "    </tr>\n",
       "    <tr>\n",
       "      <th>1204</th>\n",
       "      <td>Girl</td>\n",
       "      <td>11-15</td>\n",
       "      <td>School</td>\n",
       "      <td>Non Government</td>\n",
       "      <td>No</td>\n",
       "      <td>Yes</td>\n",
       "      <td>Low</td>\n",
       "      <td>Poor</td>\n",
       "      <td>Mobile Data</td>\n",
       "      <td>3G</td>\n",
       "      <td>1-3</td>\n",
       "      <td>No</td>\n",
       "      <td>Mobile</td>\n",
       "      <td>Moderate</td>\n",
       "    </tr>\n",
       "  </tbody>\n",
       "</table>\n",
       "<p>1205 rows × 14 columns</p>\n",
       "</div>"
      ],
      "text/plain": [
       "     Gender    Age Education Level Institution Type IT Student Location  \\\n",
       "0       Boy  21-25      University   Non Government         No      Yes   \n",
       "1      Girl  21-25      University   Non Government         No      Yes   \n",
       "2      Girl  16-20         College       Government         No      Yes   \n",
       "3      Girl  11-15          School   Non Government         No      Yes   \n",
       "4      Girl  16-20          School   Non Government         No      Yes   \n",
       "...     ...    ...             ...              ...        ...      ...   \n",
       "1200   Girl  16-20         College   Non Government         No      Yes   \n",
       "1201   Girl  16-20         College   Non Government         No       No   \n",
       "1202    Boy  11-15          School   Non Government         No      Yes   \n",
       "1203   Girl  16-20         College   Non Government         No       No   \n",
       "1204   Girl  11-15          School   Non Government         No      Yes   \n",
       "\n",
       "     Load-shedding Financial Condition Internet Type Network Type  \\\n",
       "0              Low                 Mid          Wifi           4G   \n",
       "1             High                 Mid   Mobile Data           4G   \n",
       "2              Low                 Mid          Wifi           4G   \n",
       "3              Low                 Mid   Mobile Data           4G   \n",
       "4              Low                Poor   Mobile Data           3G   \n",
       "...            ...                 ...           ...          ...   \n",
       "1200           Low                 Mid          Wifi           4G   \n",
       "1201          High                 Mid          Wifi           4G   \n",
       "1202           Low                 Mid   Mobile Data           3G   \n",
       "1203           Low                 Mid          Wifi           4G   \n",
       "1204           Low                Poor   Mobile Data           3G   \n",
       "\n",
       "     Class Duration Self Lms  Device Adaptivity Level  \n",
       "0               3-6       No     Tab         Moderate  \n",
       "1               1-3      Yes  Mobile         Moderate  \n",
       "2               1-3       No  Mobile         Moderate  \n",
       "3               1-3       No  Mobile         Moderate  \n",
       "4                 0       No  Mobile              Low  \n",
       "...             ...      ...     ...              ...  \n",
       "1200            1-3       No  Mobile              Low  \n",
       "1201            3-6       No  Mobile         Moderate  \n",
       "1202            1-3       No  Mobile         Moderate  \n",
       "1203            1-3       No  Mobile              Low  \n",
       "1204            1-3       No  Mobile         Moderate  \n",
       "\n",
       "[1205 rows x 14 columns]"
      ]
     },
     "execution_count": 4,
     "metadata": {},
     "output_type": "execute_result"
    }
   ],
   "source": [
    "#Implementação do documento csv.\n",
    "df = pd.read_csv('students_adaptability_level_online_education.csv')\n",
    "#Visualiazação dos dados.\n",
    "df"
   ]
  },
  {
   "cell_type": "markdown",
   "id": "3b2abd3a",
   "metadata": {},
   "source": [
    "## Preparação e entendimento dos dados."
   ]
  },
  {
   "cell_type": "code",
   "execution_count": 5,
   "id": "7d6011ce",
   "metadata": {},
   "outputs": [
    {
     "name": "stdout",
     "output_type": "stream",
     "text": [
      "<class 'pandas.core.frame.DataFrame'>\n",
      "RangeIndex: 1205 entries, 0 to 1204\n",
      "Data columns (total 14 columns):\n",
      " #   Column               Non-Null Count  Dtype \n",
      "---  ------               --------------  ----- \n",
      " 0   Gender               1205 non-null   object\n",
      " 1   Age                  1205 non-null   object\n",
      " 2   Education Level      1205 non-null   object\n",
      " 3   Institution Type     1205 non-null   object\n",
      " 4   IT Student           1205 non-null   object\n",
      " 5   Location             1205 non-null   object\n",
      " 6   Load-shedding        1205 non-null   object\n",
      " 7   Financial Condition  1205 non-null   object\n",
      " 8   Internet Type        1205 non-null   object\n",
      " 9   Network Type         1205 non-null   object\n",
      " 10  Class Duration       1205 non-null   object\n",
      " 11  Self Lms             1205 non-null   object\n",
      " 12  Device               1205 non-null   object\n",
      " 13  Adaptivity Level     1205 non-null   object\n",
      "dtypes: object(14)\n",
      "memory usage: 131.9+ KB\n"
     ]
    }
   ],
   "source": [
    "#Verificação o tipo dos dados.\n",
    "df.dtypes\n",
    "#Verificando se existem dados ausentes.\n",
    "df.info()\n",
    "# Verificando qual a soma total de dados ausentes.\n",
    "# df.isnull().sum()"
   ]
  },
  {
   "cell_type": "markdown",
   "id": "3ba984f2",
   "metadata": {},
   "source": [
    "Para maior entendimento dos dados vizualizamos as categorias, podemos observar que todos se encontram definidos como **object** isso precisara ser tratado e transfomado em **int64**.\n",
    "Tambem observamos que em nosso conjunto de dados não existe dados categorizados como null, ou seja, não temos dados nulos que precisariam ser tratados.\n"
   ]
  },
  {
   "cell_type": "markdown",
   "id": "15d6afb9",
   "metadata": {},
   "source": [
    "Para que possamos seguir com a criação do modelo precisamos transformar nossos dados **object** em **int64** como dito acima, para isso usaremos o método **factorize** e transformaremos nossos dados textuais em númericos definidos em categorias iniadas com 0."
   ]
  },
  {
   "cell_type": "code",
   "execution_count": 6,
   "id": "8a1bbb70",
   "metadata": {},
   "outputs": [
    {
     "data": {
      "text/html": [
       "<div>\n",
       "<style scoped>\n",
       "    .dataframe tbody tr th:only-of-type {\n",
       "        vertical-align: middle;\n",
       "    }\n",
       "\n",
       "    .dataframe tbody tr th {\n",
       "        vertical-align: top;\n",
       "    }\n",
       "\n",
       "    .dataframe thead th {\n",
       "        text-align: right;\n",
       "    }\n",
       "</style>\n",
       "<table border=\"1\" class=\"dataframe\">\n",
       "  <thead>\n",
       "    <tr style=\"text-align: right;\">\n",
       "      <th></th>\n",
       "      <th>Gender</th>\n",
       "      <th>Age</th>\n",
       "      <th>Education Level</th>\n",
       "      <th>Institution Type</th>\n",
       "      <th>IT Student</th>\n",
       "      <th>Location</th>\n",
       "      <th>Load-shedding</th>\n",
       "      <th>Financial Condition</th>\n",
       "      <th>Internet Type</th>\n",
       "      <th>Network Type</th>\n",
       "      <th>Self Lms</th>\n",
       "      <th>Device</th>\n",
       "      <th>Adaptivity Level</th>\n",
       "    </tr>\n",
       "  </thead>\n",
       "  <tbody>\n",
       "    <tr>\n",
       "      <th>0</th>\n",
       "      <td>0</td>\n",
       "      <td>0</td>\n",
       "      <td>0</td>\n",
       "      <td>0</td>\n",
       "      <td>0</td>\n",
       "      <td>0</td>\n",
       "      <td>0</td>\n",
       "      <td>0</td>\n",
       "      <td>0</td>\n",
       "      <td>0</td>\n",
       "      <td>0</td>\n",
       "      <td>0</td>\n",
       "      <td>0</td>\n",
       "    </tr>\n",
       "    <tr>\n",
       "      <th>1</th>\n",
       "      <td>1</td>\n",
       "      <td>0</td>\n",
       "      <td>0</td>\n",
       "      <td>0</td>\n",
       "      <td>0</td>\n",
       "      <td>0</td>\n",
       "      <td>1</td>\n",
       "      <td>0</td>\n",
       "      <td>1</td>\n",
       "      <td>0</td>\n",
       "      <td>1</td>\n",
       "      <td>1</td>\n",
       "      <td>0</td>\n",
       "    </tr>\n",
       "    <tr>\n",
       "      <th>2</th>\n",
       "      <td>1</td>\n",
       "      <td>1</td>\n",
       "      <td>1</td>\n",
       "      <td>1</td>\n",
       "      <td>0</td>\n",
       "      <td>0</td>\n",
       "      <td>0</td>\n",
       "      <td>0</td>\n",
       "      <td>0</td>\n",
       "      <td>0</td>\n",
       "      <td>0</td>\n",
       "      <td>1</td>\n",
       "      <td>0</td>\n",
       "    </tr>\n",
       "    <tr>\n",
       "      <th>3</th>\n",
       "      <td>1</td>\n",
       "      <td>2</td>\n",
       "      <td>2</td>\n",
       "      <td>0</td>\n",
       "      <td>0</td>\n",
       "      <td>0</td>\n",
       "      <td>0</td>\n",
       "      <td>0</td>\n",
       "      <td>1</td>\n",
       "      <td>0</td>\n",
       "      <td>0</td>\n",
       "      <td>1</td>\n",
       "      <td>0</td>\n",
       "    </tr>\n",
       "    <tr>\n",
       "      <th>4</th>\n",
       "      <td>1</td>\n",
       "      <td>1</td>\n",
       "      <td>2</td>\n",
       "      <td>0</td>\n",
       "      <td>0</td>\n",
       "      <td>0</td>\n",
       "      <td>0</td>\n",
       "      <td>1</td>\n",
       "      <td>1</td>\n",
       "      <td>1</td>\n",
       "      <td>0</td>\n",
       "      <td>1</td>\n",
       "      <td>1</td>\n",
       "    </tr>\n",
       "    <tr>\n",
       "      <th>...</th>\n",
       "      <td>...</td>\n",
       "      <td>...</td>\n",
       "      <td>...</td>\n",
       "      <td>...</td>\n",
       "      <td>...</td>\n",
       "      <td>...</td>\n",
       "      <td>...</td>\n",
       "      <td>...</td>\n",
       "      <td>...</td>\n",
       "      <td>...</td>\n",
       "      <td>...</td>\n",
       "      <td>...</td>\n",
       "      <td>...</td>\n",
       "    </tr>\n",
       "    <tr>\n",
       "      <th>1200</th>\n",
       "      <td>1</td>\n",
       "      <td>1</td>\n",
       "      <td>1</td>\n",
       "      <td>0</td>\n",
       "      <td>0</td>\n",
       "      <td>0</td>\n",
       "      <td>0</td>\n",
       "      <td>0</td>\n",
       "      <td>0</td>\n",
       "      <td>0</td>\n",
       "      <td>0</td>\n",
       "      <td>1</td>\n",
       "      <td>1</td>\n",
       "    </tr>\n",
       "    <tr>\n",
       "      <th>1201</th>\n",
       "      <td>1</td>\n",
       "      <td>1</td>\n",
       "      <td>1</td>\n",
       "      <td>0</td>\n",
       "      <td>0</td>\n",
       "      <td>1</td>\n",
       "      <td>1</td>\n",
       "      <td>0</td>\n",
       "      <td>0</td>\n",
       "      <td>0</td>\n",
       "      <td>0</td>\n",
       "      <td>1</td>\n",
       "      <td>0</td>\n",
       "    </tr>\n",
       "    <tr>\n",
       "      <th>1202</th>\n",
       "      <td>0</td>\n",
       "      <td>2</td>\n",
       "      <td>2</td>\n",
       "      <td>0</td>\n",
       "      <td>0</td>\n",
       "      <td>0</td>\n",
       "      <td>0</td>\n",
       "      <td>0</td>\n",
       "      <td>1</td>\n",
       "      <td>1</td>\n",
       "      <td>0</td>\n",
       "      <td>1</td>\n",
       "      <td>0</td>\n",
       "    </tr>\n",
       "    <tr>\n",
       "      <th>1203</th>\n",
       "      <td>1</td>\n",
       "      <td>1</td>\n",
       "      <td>1</td>\n",
       "      <td>0</td>\n",
       "      <td>0</td>\n",
       "      <td>1</td>\n",
       "      <td>0</td>\n",
       "      <td>0</td>\n",
       "      <td>0</td>\n",
       "      <td>0</td>\n",
       "      <td>0</td>\n",
       "      <td>1</td>\n",
       "      <td>1</td>\n",
       "    </tr>\n",
       "    <tr>\n",
       "      <th>1204</th>\n",
       "      <td>1</td>\n",
       "      <td>2</td>\n",
       "      <td>2</td>\n",
       "      <td>0</td>\n",
       "      <td>0</td>\n",
       "      <td>0</td>\n",
       "      <td>0</td>\n",
       "      <td>1</td>\n",
       "      <td>1</td>\n",
       "      <td>1</td>\n",
       "      <td>0</td>\n",
       "      <td>1</td>\n",
       "      <td>0</td>\n",
       "    </tr>\n",
       "  </tbody>\n",
       "</table>\n",
       "<p>1205 rows × 13 columns</p>\n",
       "</div>"
      ],
      "text/plain": [
       "      Gender  Age  Education Level  Institution Type  IT Student  Location  \\\n",
       "0          0    0                0                 0           0         0   \n",
       "1          1    0                0                 0           0         0   \n",
       "2          1    1                1                 1           0         0   \n",
       "3          1    2                2                 0           0         0   \n",
       "4          1    1                2                 0           0         0   \n",
       "...      ...  ...              ...               ...         ...       ...   \n",
       "1200       1    1                1                 0           0         0   \n",
       "1201       1    1                1                 0           0         1   \n",
       "1202       0    2                2                 0           0         0   \n",
       "1203       1    1                1                 0           0         1   \n",
       "1204       1    2                2                 0           0         0   \n",
       "\n",
       "      Load-shedding  Financial Condition  Internet Type  Network Type  \\\n",
       "0                 0                    0              0             0   \n",
       "1                 1                    0              1             0   \n",
       "2                 0                    0              0             0   \n",
       "3                 0                    0              1             0   \n",
       "4                 0                    1              1             1   \n",
       "...             ...                  ...            ...           ...   \n",
       "1200              0                    0              0             0   \n",
       "1201              1                    0              0             0   \n",
       "1202              0                    0              1             1   \n",
       "1203              0                    0              0             0   \n",
       "1204              0                    1              1             1   \n",
       "\n",
       "      Self Lms  Device  Adaptivity Level  \n",
       "0            0       0                 0  \n",
       "1            1       1                 0  \n",
       "2            0       1                 0  \n",
       "3            0       1                 0  \n",
       "4            0       1                 1  \n",
       "...        ...     ...               ...  \n",
       "1200         0       1                 1  \n",
       "1201         0       1                 0  \n",
       "1202         0       1                 0  \n",
       "1203         0       1                 1  \n",
       "1204         0       1                 0  \n",
       "\n",
       "[1205 rows x 13 columns]"
      ]
     },
     "execution_count": 6,
     "metadata": {},
     "output_type": "execute_result"
    }
   ],
   "source": [
    "#Transformando os dados não númericos em númericos.\n",
    "df = df[['Gender', 'Age', 'Education Level', 'Institution Type', 'IT Student', 'Location', 'Load-shedding', 'Financial Condition', 'Internet Type', 'Network Type', 'Self Lms', 'Device', 'Adaptivity Level']].apply(lambda x: pd.factorize(x)[0])\n",
    "df"
   ]
  },
  {
   "cell_type": "code",
   "execution_count": 7,
   "id": "2ab3ff11",
   "metadata": {},
   "outputs": [],
   "source": [
    "#Definindo X e y\n",
    "X = df[['Gender', 'Age', 'Education Level', 'Institution Type', 'IT Student', 'Location', 'Load-shedding', 'Financial Condition', 'Internet Type', 'Network Type', 'Self Lms', 'Device']]\n",
    "y = df['Adaptivity Level']"
   ]
  },
  {
   "cell_type": "markdown",
   "id": "0c3063be",
   "metadata": {},
   "source": [
    "## Modelagem Árvore de Decisão"
   ]
  },
  {
   "cell_type": "code",
   "execution_count": 8,
   "id": "cf8dbc4f",
   "metadata": {},
   "outputs": [],
   "source": [
    "#Define quantos % serão utilizados \n",
    "X_train, X_test, y_train, y_test = train_test_split(X.values, y, test_size=0.30)"
   ]
  },
  {
   "cell_type": "code",
   "execution_count": 9,
   "id": "e384f2f5",
   "metadata": {},
   "outputs": [
    {
     "data": {
      "text/plain": [
       "0.8674033149171271"
      ]
     },
     "execution_count": 9,
     "metadata": {},
     "output_type": "execute_result"
    }
   ],
   "source": [
    "#Criterios para medidas comuns de impureza da árvore de decisão (Classificação)\n",
    "arvore = DecisionTreeClassifier()\n",
    "\n",
    "parameters = {'criterion':('gini', 'entropy'), 'splitter': ('best', 'random'), 'max_depth': (None, 1, 2, 3, 4, 5, 6, 7, 8, 9, 10)}\n",
    "\n",
    "grid = GridSearchCV(arvore, parameters)\n",
    "grid.fit(X_train, y_train)\n",
    "grid.score(X_test, y_test)"
   ]
  },
  {
   "cell_type": "markdown",
   "id": "42dc204f",
   "metadata": {},
   "source": [
    "Para melhor analise dos dados e desempenho do modelo farei usso de todos os parametros fornecidos pela biblioteca, meu modelo fara uma avaliação de todos os criterios e avalia qual o melhor para que a árvore tenha um bom resultado. \n",
    "**OBS:** Esses criterios são usados para medidas comuns de impureza do tipo de classificação no modelo da árvore."
   ]
  },
  {
   "cell_type": "code",
   "execution_count": 10,
   "id": "729d3bc4",
   "metadata": {},
   "outputs": [
    {
     "name": "stdout",
     "output_type": "stream",
     "text": [
      "{'criterion': 'gini', 'max_depth': 12}\n"
     ]
    }
   ],
   "source": [
    "criterion = ['gini', 'entropy', 'log_loss']\n",
    "max_depths = list(range(1, 20))\n",
    "param_grid = dict(criterion=criterion, max_depth=max_depths)\n",
    "dtc = DecisionTreeClassifier()\n",
    "dtc = GridSearchCV(dtc, param_grid, scoring='accuracy')\n",
    "dtc.fit(X_train, y_train)\n",
    "print(dtc.best_params_)"
   ]
  },
  {
   "cell_type": "markdown",
   "id": "a67df59d",
   "metadata": {},
   "source": [
    "Nesse caso os melhores criterios avaliados pelo modelo será Gini, max_depth e 14.\n",
    "**OBS:** O criterio númerico terá alterações a cada vez que o modelo for regerado."
   ]
  },
  {
   "cell_type": "markdown",
   "id": "40b4c382",
   "metadata": {},
   "source": [
    "## Resultados"
   ]
  },
  {
   "cell_type": "code",
   "execution_count": 11,
   "id": "afa92f12",
   "metadata": {
    "scrolled": true
   },
   "outputs": [
    {
     "data": {
      "image/png": "[encoded data removed]",
      "text/plain": [
       "<Figure size 2160x1800 with 1 Axes>"
      ]
     },
     "metadata": {
      "needs_background": "light"
     },
     "output_type": "display_data"
    }
   ],
   "source": [
    "# Gera a Imagem da árvore\n",
    "fig = plt.figure(figsize=(30,25)) #Aumentar a fonte da figura\n",
    "arvore_bonitinha = tree.plot_tree(grid.best_estimator_, filled=True, max_depth=3)\n",
    "plt.show()\n",
    "#Salva a imagem nos documentos\n",
    "#fig.savefig('Árvore_Online_Estudantes.pdf')"
   ]
  },
  {
   "cell_type": "markdown",
   "id": "0e6a3443",
   "metadata": {},
   "source": [
    "Diagarma do inicio da árvore de decisão.\n",
    "\n",
    "A árvore de decisão é construída de forma hierárquica, ou seja, as dependências entre os nós são bem definidas, claras e seguem a ordem dos eventos."
   ]
  },
  {
   "cell_type": "code",
   "execution_count": 12,
   "id": "26030c7a",
   "metadata": {},
   "outputs": [],
   "source": [
    "dtc_param = pd.DataFrame(dtc.cv_results_)[['mean_test_score', 'params']].sort_values(by='mean_test_score', ascending=False)\n",
    "dtc_param['params'] = dtc_param['params'].astype('string')\n",
    "novo = dtc_param['params'].str.split(',', expand=True)\n",
    "dtc_param['criterion'] = novo[0]\n",
    "dtc_param['max_depth'] = novo[1]\n",
    "dtc_param['criterion'] = dtc_param['criterion'].replace(\"{'criterion': '\", '', regex=True)\n",
    "dtc_param['criterion'] = dtc_param['criterion'].replace(\"'\", '', regex=True)\n",
    "dtc_param['max_depth'] = dtc_param['max_depth'].replace(\"'max_depth': \", '', regex=True)\n",
    "dtc_param['max_depth'] = dtc_param['max_depth'].replace(\"}\", '', regex=True)\n",
    "dtc_param['max_depth'] = dtc_param['max_depth'].astype('int')\n",
    "dtc_param.drop('params', axis=1, inplace=True)"
   ]
  },
  {
   "cell_type": "code",
   "execution_count": 13,
   "id": "a0a3d8b7",
   "metadata": {},
   "outputs": [
    {
     "data": {
      "image/png": "[encoded data removed]",
      "text/plain": [
       "<Figure size 432x288 with 1 Axes>"
      ]
     },
     "metadata": {
      "needs_background": "light"
     },
     "output_type": "display_data"
    }
   ],
   "source": [
    "sns.lineplot(data=dtc_param, x='max_depth', y='mean_test_score', hue='criterion')\n",
    "plt.title('Valores de acurácia para Decision Tree')\n",
    "plt.ylabel('Accuracy')\n",
    "plt.xlabel('Max Depth')\n",
    "plt.xticks(max_depths)\n",
    "plt.legend(title='Criterion', labels=['Gini', 'Log_loss', 'Entropy'], loc='lower right')\n",
    "plt.show()"
   ]
  },
  {
   "cell_type": "markdown",
   "id": "010503aa",
   "metadata": {},
   "source": [
    "Medido pelo índice de Gini desenvolvido por Conrado Gini em 1912 heterogeneidade de dados. Portanto, pode ser usado para medir uma impureza existente.\n",
    "\n",
    "Quando o índice é igual a 0 o nó é um nó puro. Por outro lado, quando mais próximo o valor chega de 1 o nó é impuro, analisando nossa árvore, podemos observar que seus valores, mesmo sendo bons índices para um olheiro, não são agradeveis para o desempenho do modelo e um expecialista, afinal nossa acuracia chega perto de 1 atingindo 0,87%. Ou seja, analisando os dados fornecidos no dataset e pretendendo medir o nivel de adaptação dos estudantes."
   ]
  },
  {
   "cell_type": "markdown",
   "id": "70ee9020",
   "metadata": {},
   "source": [
    "## Métricas"
   ]
  },
  {
   "cell_type": "code",
   "execution_count": 14,
   "id": "4b16a5cb",
   "metadata": {},
   "outputs": [
    {
     "name": "stdout",
     "output_type": "stream",
     "text": [
      "              precision    recall  f1-score   support\n",
      "\n",
      "    Moderate       0.84      0.92      0.88       181\n",
      "         Low       0.90      0.85      0.88       150\n",
      "        High       0.87      0.65      0.74        31\n",
      "\n",
      "    accuracy                           0.87       362\n",
      "   macro avg       0.87      0.81      0.83       362\n",
      "weighted avg       0.87      0.87      0.87       362\n",
      "\n"
     ]
    }
   ],
   "source": [
    "#Implementação do método \".predict\"\n",
    "y_pred = grid.predict(X_test)\n",
    "\n",
    "#Mostra precision, recall, fi-score, support, accuracy, macro avg, weighted avg\n",
    "target_names = ['Moderate', 'Low', 'High']\n",
    "print(classification_report(y_test, y_pred, target_names=target_names))\n",
    "#0-Moderate 1-Low 2-High"
   ]
  },
  {
   "cell_type": "markdown",
   "id": "7eb9c756",
   "metadata": {},
   "source": [
    "## Matriz de confusão"
   ]
  },
  {
   "cell_type": "code",
   "execution_count": 15,
   "id": "ad83c7e1",
   "metadata": {},
   "outputs": [
    {
     "data": {
      "image/png": "[encoded data removed]",
      "text/plain": [
       "<Figure size 432x288 with 2 Axes>"
      ]
     },
     "metadata": {
      "needs_background": "light"
     },
     "output_type": "display_data"
    }
   ],
   "source": [
    "#Cria o gráfico da matriz de confusão\n",
    "cm = confusion_matrix(y_test, y_pred)\n",
    "plt.rc('font', size=10) # bigger font sizes\n",
    "ConfusionMatrixDisplay(cm).plot()\n",
    "plt.show()"
   ]
  },
  {
   "cell_type": "markdown",
   "id": "ea8e8a53",
   "metadata": {},
   "source": [
    "## Interpretação matriz de confusão - Árvore de decisão.\n",
    "\n",
    "**Classe moderada (0)**\n",
    "\n",
    "Em uma matriz de 3 dimensões as interpretações dos dados será feita de forma diferente.\n",
    "\n",
    "**TP/VP - Verdadeiro positivo.**\n",
    "\n",
    "O valor real e o valor previsto devem ser os mesmos. (0,0) Assim, em relação à classe Moderate (0), o valor da célula 1 é o valor TP. **161 em Amarelo**.\n",
    "\n",
    "**FN/FN - Falso negativo.**\n",
    "\n",
    "Para relalizar o entendimento dos valores falsos negativos temos que realizar uma conta simples, precisamos somar a célula 2 e célula 3 assim sento. **16+1 = 17** Valores previstos como falsos negativos.\n",
    "\n",
    "**FP/FP - Falso positivo.**\n",
    "\n",
    "Assim como o Falso negativo para entender o resultado falso positivo tambem é necessario fazer uma conta simples. Onde somamos célula 4 + célula 7 assim sendo. **19+6 = 25** Valores previstos como falsos positivos.\n",
    "\n",
    "**TN/VN - Verdadeiro negativo.**\n",
    "\n",
    "A soma feita para o entendimento dos valores verdadeiros negativos por mais que simples comparada as anteriores será denominada de conta maior. Sendo célula5 + célula6 + célula8 + célula9, ou seja. **132+2+3+22 = 159** Valores previstos como verdadeiros negativos."
   ]
  },
  {
   "cell_type": "markdown",
   "id": "c581c7d1",
   "metadata": {},
   "source": [
    "**Classe baixa (1)**\n",
    "\n",
    "**TP:** Valor da célula 5. **132 em verde**.\n",
    "\n",
    "**FN:** Soma das célula4 + célula6. **19+2 = 21** Valores previstos como falsos negativos.\n",
    "\n",
    "**FP:** Soma das célula2 + célula8. **16+3 = 19** Valores previstos como falsos positivos.\n",
    "\n",
    "**TN:** Soma maior das célula1 + célula3 + célula7 + célula9. **161+1+6+22 = 190** Valores previstos como Verdadeiros positivos. "
   ]
  },
  {
   "cell_type": "markdown",
   "id": "e8f1150b",
   "metadata": {},
   "source": [
    "**Classe alta (2)**\n",
    "\n",
    "**TP:** Valor da célula 9. **22 em violeta**.\n",
    "\n",
    "**FN:** Soma das célula7 + célula8. **6+3 = 9** Valores previstos como falsos negativos.\n",
    "\n",
    "**FP:** Soma das célula3 + célula6. **1+2 = 3** Valores previstos como falsos positivos.\n",
    "\n",
    "**TN:** Soma maior das célula1 + célula2 + célula4 + célula5. **161+16+19+132 = 328** Valores previstos como Verdadeiros positivos. "
   ]
  },
  {
   "cell_type": "markdown",
   "id": "4950c465",
   "metadata": {},
   "source": [
    "Em análise geral para todas as classes vemos que por mais que o modelo árvore de decisão tenha suas vantagens não analisa muito bem nossos dados, como vimos anteriormente nossa acuracia se aproxima de 1 sendo 0,8 o que não é bom para o modelo, o ideal seria se manter mais proximo de 0 e podemos comprovar isso com os dados Verdadeiros negativos obtidos na matriz de confusão onde esses valores são bem autos chegando ate a 328 por exemplo."
   ]
  },
  {
   "cell_type": "markdown",
   "id": "b2d0d8eb",
   "metadata": {},
   "source": [
    "# Vantagens e Desvantagens\n",
    "\n",
    "## Vantagens\n",
    "Facilidade de compreensão;\n",
    "Podem ser úteis com ou sem dados concretos, e quaisquer dados requerem o mínimo de preparação;\n",
    "Novas opções podem ser adicionadas às árvores existentes\n",
    "Seu valor pode ser escolhido dentre a melhor opções\n",
    "\n",
    "## Desvantagens\n",
    "Árvores de decisão podem se tornar excessivamente complexas. Em tais casos, um diagrama de influência mais compacto pode ser uma boa alternativa. Diagramas de influência focam em decisões mais críticas, entradas e objetivos."
   ]
  },
  {
   "cell_type": "markdown",
   "id": "70d1f0a7",
   "metadata": {},
   "source": [
    "## Limitaçõs - Árvore.\n",
    "**NAN**"
   ]
  },
  {
   "cell_type": "markdown",
   "id": "04d939e5",
   "metadata": {},
   "source": [
    "# Joblib"
   ]
  },
  {
   "cell_type": "code",
   "execution_count": 16,
   "id": "7bdfa282",
   "metadata": {},
   "outputs": [],
   "source": [
    "from joblib import dump"
   ]
  },
  {
   "cell_type": "code",
   "execution_count": 17,
   "id": "5593a7cd",
   "metadata": {},
   "outputs": [],
   "source": [
    "# dump(knn, 'knn.joblib')\n",
    "# dump(log_reg, 'log_reg.joblib')\n",
    "# dump(svc, 'svc.joblib')\n",
    "dump(dtc, 'dtc.joblib')\n",
    "dump(X_test, 'X.joblib')\n",
    "dump(y_test, 'y.joblib');"
   ]
  },
  {
   "cell_type": "markdown",
   "id": "29bdf724",
   "metadata": {},
   "source": [
    "# Referências\n",
    "https://ferramentasdaqualidade.org/arvores-decisorias/.\n",
    "\n",
    "https://en.wikipedia.org/wiki/Decision_tree.\n",
    "\n",
    "https://www.digitalhouse.com/br/blog/arvore-de-decisao/.\n",
    "\n",
    "https://www.digitalhouse.com/br/blog/arvore-de-decisao/.\n",
    "\n",
    "https://scikit-learn.org/stable/modules/tree.html.\n",
    "\n",
    "https://www.analyticsvidhya.com/blog/2021/06/confusion-matrix-for-multi-class-classification/."
   ]
  }
 ],
 "metadata": {
  "kernelspec": {
   "display_name": "Python 3 (ipykernel)",
   "language": "python",
   "name": "python3"
  },
  "language_info": {
   "codemirror_mode": {
    "name": "ipython",
    "version": 3
   },
   "file_extension": ".py",
   "mimetype": "text/x-python",
   "name": "python",
   "nbconvert_exporter": "python",
   "pygments_lexer": "ipython3",
   "version": "3.9.7"
  }
 },
 "nbformat": 4,
 "nbformat_minor": 5
}
