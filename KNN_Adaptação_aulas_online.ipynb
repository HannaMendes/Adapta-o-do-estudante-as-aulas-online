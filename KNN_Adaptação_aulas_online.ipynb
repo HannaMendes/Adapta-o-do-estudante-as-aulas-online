{
 "cells": [
  {
   "cell_type": "markdown",
   "id": "5fdb9514",
   "metadata": {},
   "source": [
    "# Medindo a adaptabilidade dos alunos à educação online"
   ]
  },
  {
   "cell_type": "markdown",
   "id": "2b2a4563",
   "metadata": {},
   "source": [
    "---"
   ]
  },
  {
   "cell_type": "markdown",
   "id": "bf118fa1",
   "metadata": {},
   "source": [
    "# 1. Problema de Negócio\n",
    "\n",
    "A pandemia trouxe diversas mudanças no nosso dia-a-dia, e a mais impactante (além do problema sanitário) foi a transferência do ensino presencial para o ensino à distância, que impactou diretamente a vida de milhões de estudantes ao redor do mundo. Neste projeto, utilizaremos modelos de classificação para saber qual o grau de adaptabilidade dos estudantes e o que pode ter influenciado essa medida."
   ]
  },
  {
   "cell_type": "markdown",
   "id": "4968ef42",
   "metadata": {},
   "source": [
    "# 2. Modelo\n",
    "\n",
    "O modelo utilizado neste relatório é o K-Nearest Neighbors(KNN), um algoritmo de aprendizagem supervisionada que busca mostrar a similaridade entre vetores(ou dados) por meio da medição da distância entre eles. Quanto mais próximos os 'pontos', mais semelhantes são os dados. O algoritmo KNN utiliza de várias métricas que medem distância entre pontos, como por exemplo, a distância euclidiana, que usa o Teorema de Pitágoras. Com isso, o programador escolhe quantos pontos(ou vizinhos) próximos ele quer considerar no modelo. A imagem a seguir ilustra isso:"
   ]
  },
  {
   "cell_type": "markdown",
   "id": "0fc371d3",
   "metadata": {},
   "source": [
    "<img src=\"https://www.jcchouinard.com/wp-content/uploads/2021/08/image-8.png.webp\" width=\"35%\" />"
   ]
  },
  {
   "cell_type": "markdown",
   "id": "48dce530",
   "metadata": {},
   "source": [
    "# 3. Preparação dos Dados"
   ]
  },
  {
   "cell_type": "markdown",
   "id": "94e2defc",
   "metadata": {},
   "source": [
    "### Importando Bibliotecas"
   ]
  },
  {
   "cell_type": "code",
   "execution_count": 1,
   "id": "b46abdad",
   "metadata": {},
   "outputs": [],
   "source": [
    "import pandas as pd\n",
    "import numpy as np\n",
    "import matplotlib.pyplot as plt\n",
    "import seaborn as sns\n",
    "\n",
    "from pylab import rcParams\n",
    "from sklearn.metrics import classification_report, confusion_matrix, accuracy_score,fbeta_score, precision_score, recall_score\n",
    "\n",
    "from sklearn import metrics, preprocessing\n",
    "from sklearn.model_selection import cross_val_score, train_test_split, KFold\n",
    "from sklearn.neighbors import KNeighborsClassifier\n",
    "from sklearn.preprocessing import LabelEncoder, StandardScaler"
   ]
  },
  {
   "cell_type": "markdown",
   "id": "ff3a49da",
   "metadata": {},
   "source": [
    "### Tratamento dos dados"
   ]
  },
  {
   "cell_type": "code",
   "execution_count": 2,
   "id": "34e3ca0c",
   "metadata": {},
   "outputs": [
    {
     "ename": "FileNotFoundError",
     "evalue": "[Errno 2] No such file or directory: 'students_adaptability_level_online_education.csv'",
     "output_type": "error",
     "traceback": [
      "\u001b[1;31m---------------------------------------------------------------------------\u001b[0m",
      "\u001b[1;31mFileNotFoundError\u001b[0m                         Traceback (most recent call last)",
      "\u001b[1;32m~\\AppData\\Local\\Temp/ipykernel_12348/191884393.py\u001b[0m in \u001b[0;36m<module>\u001b[1;34m\u001b[0m\n\u001b[1;32m----> 1\u001b[1;33m \u001b[0mdf\u001b[0m \u001b[1;33m=\u001b[0m \u001b[0mpd\u001b[0m\u001b[1;33m.\u001b[0m\u001b[0mread_csv\u001b[0m\u001b[1;33m(\u001b[0m\u001b[1;34m'students_adaptability_level_online_education.csv'\u001b[0m\u001b[1;33m)\u001b[0m\u001b[1;33m\u001b[0m\u001b[1;33m\u001b[0m\u001b[0m\n\u001b[0m\u001b[0;32m      2\u001b[0m \u001b[0mdf\u001b[0m\u001b[1;33m.\u001b[0m\u001b[0mpop\u001b[0m\u001b[1;33m(\u001b[0m\u001b[1;34m'Class Duration'\u001b[0m\u001b[1;33m)\u001b[0m\u001b[1;33m\u001b[0m\u001b[1;33m\u001b[0m\u001b[0m\n\u001b[0;32m      3\u001b[0m \u001b[0mdf\u001b[0m\u001b[1;33m.\u001b[0m\u001b[0mhead\u001b[0m\u001b[1;33m(\u001b[0m\u001b[1;36m5\u001b[0m\u001b[1;33m)\u001b[0m\u001b[1;33m\u001b[0m\u001b[1;33m\u001b[0m\u001b[0m\n",
      "\u001b[1;32m~\\anaconda3\\lib\\site-packages\\pandas\\util\\_decorators.py\u001b[0m in \u001b[0;36mwrapper\u001b[1;34m(*args, **kwargs)\u001b[0m\n\u001b[0;32m    309\u001b[0m                     \u001b[0mstacklevel\u001b[0m\u001b[1;33m=\u001b[0m\u001b[0mstacklevel\u001b[0m\u001b[1;33m,\u001b[0m\u001b[1;33m\u001b[0m\u001b[1;33m\u001b[0m\u001b[0m\n\u001b[0;32m    310\u001b[0m                 )\n\u001b[1;32m--> 311\u001b[1;33m             \u001b[1;32mreturn\u001b[0m \u001b[0mfunc\u001b[0m\u001b[1;33m(\u001b[0m\u001b[1;33m*\u001b[0m\u001b[0margs\u001b[0m\u001b[1;33m,\u001b[0m \u001b[1;33m**\u001b[0m\u001b[0mkwargs\u001b[0m\u001b[1;33m)\u001b[0m\u001b[1;33m\u001b[0m\u001b[1;33m\u001b[0m\u001b[0m\n\u001b[0m\u001b[0;32m    312\u001b[0m \u001b[1;33m\u001b[0m\u001b[0m\n\u001b[0;32m    313\u001b[0m         \u001b[1;32mreturn\u001b[0m \u001b[0mwrapper\u001b[0m\u001b[1;33m\u001b[0m\u001b[1;33m\u001b[0m\u001b[0m\n",
      "\u001b[1;32m~\\anaconda3\\lib\\site-packages\\pandas\\io\\parsers\\readers.py\u001b[0m in \u001b[0;36mread_csv\u001b[1;34m(filepath_or_buffer, sep, delimiter, header, names, index_col, usecols, squeeze, prefix, mangle_dupe_cols, dtype, engine, converters, true_values, false_values, skipinitialspace, skiprows, skipfooter, nrows, na_values, keep_default_na, na_filter, verbose, skip_blank_lines, parse_dates, infer_datetime_format, keep_date_col, date_parser, dayfirst, cache_dates, iterator, chunksize, compression, thousands, decimal, lineterminator, quotechar, quoting, doublequote, escapechar, comment, encoding, encoding_errors, dialect, error_bad_lines, warn_bad_lines, on_bad_lines, delim_whitespace, low_memory, memory_map, float_precision, storage_options)\u001b[0m\n\u001b[0;32m    584\u001b[0m     \u001b[0mkwds\u001b[0m\u001b[1;33m.\u001b[0m\u001b[0mupdate\u001b[0m\u001b[1;33m(\u001b[0m\u001b[0mkwds_defaults\u001b[0m\u001b[1;33m)\u001b[0m\u001b[1;33m\u001b[0m\u001b[1;33m\u001b[0m\u001b[0m\n\u001b[0;32m    585\u001b[0m \u001b[1;33m\u001b[0m\u001b[0m\n\u001b[1;32m--> 586\u001b[1;33m     \u001b[1;32mreturn\u001b[0m \u001b[0m_read\u001b[0m\u001b[1;33m(\u001b[0m\u001b[0mfilepath_or_buffer\u001b[0m\u001b[1;33m,\u001b[0m \u001b[0mkwds\u001b[0m\u001b[1;33m)\u001b[0m\u001b[1;33m\u001b[0m\u001b[1;33m\u001b[0m\u001b[0m\n\u001b[0m\u001b[0;32m    587\u001b[0m \u001b[1;33m\u001b[0m\u001b[0m\n\u001b[0;32m    588\u001b[0m \u001b[1;33m\u001b[0m\u001b[0m\n",
      "\u001b[1;32m~\\anaconda3\\lib\\site-packages\\pandas\\io\\parsers\\readers.py\u001b[0m in \u001b[0;36m_read\u001b[1;34m(filepath_or_buffer, kwds)\u001b[0m\n\u001b[0;32m    480\u001b[0m \u001b[1;33m\u001b[0m\u001b[0m\n\u001b[0;32m    481\u001b[0m     \u001b[1;31m# Create the parser.\u001b[0m\u001b[1;33m\u001b[0m\u001b[1;33m\u001b[0m\u001b[0m\n\u001b[1;32m--> 482\u001b[1;33m     \u001b[0mparser\u001b[0m \u001b[1;33m=\u001b[0m \u001b[0mTextFileReader\u001b[0m\u001b[1;33m(\u001b[0m\u001b[0mfilepath_or_buffer\u001b[0m\u001b[1;33m,\u001b[0m \u001b[1;33m**\u001b[0m\u001b[0mkwds\u001b[0m\u001b[1;33m)\u001b[0m\u001b[1;33m\u001b[0m\u001b[1;33m\u001b[0m\u001b[0m\n\u001b[0m\u001b[0;32m    483\u001b[0m \u001b[1;33m\u001b[0m\u001b[0m\n\u001b[0;32m    484\u001b[0m     \u001b[1;32mif\u001b[0m \u001b[0mchunksize\u001b[0m \u001b[1;32mor\u001b[0m \u001b[0miterator\u001b[0m\u001b[1;33m:\u001b[0m\u001b[1;33m\u001b[0m\u001b[1;33m\u001b[0m\u001b[0m\n",
      "\u001b[1;32m~\\anaconda3\\lib\\site-packages\\pandas\\io\\parsers\\readers.py\u001b[0m in \u001b[0;36m__init__\u001b[1;34m(self, f, engine, **kwds)\u001b[0m\n\u001b[0;32m    809\u001b[0m             \u001b[0mself\u001b[0m\u001b[1;33m.\u001b[0m\u001b[0moptions\u001b[0m\u001b[1;33m[\u001b[0m\u001b[1;34m\"has_index_names\"\u001b[0m\u001b[1;33m]\u001b[0m \u001b[1;33m=\u001b[0m \u001b[0mkwds\u001b[0m\u001b[1;33m[\u001b[0m\u001b[1;34m\"has_index_names\"\u001b[0m\u001b[1;33m]\u001b[0m\u001b[1;33m\u001b[0m\u001b[1;33m\u001b[0m\u001b[0m\n\u001b[0;32m    810\u001b[0m \u001b[1;33m\u001b[0m\u001b[0m\n\u001b[1;32m--> 811\u001b[1;33m         \u001b[0mself\u001b[0m\u001b[1;33m.\u001b[0m\u001b[0m_engine\u001b[0m \u001b[1;33m=\u001b[0m \u001b[0mself\u001b[0m\u001b[1;33m.\u001b[0m\u001b[0m_make_engine\u001b[0m\u001b[1;33m(\u001b[0m\u001b[0mself\u001b[0m\u001b[1;33m.\u001b[0m\u001b[0mengine\u001b[0m\u001b[1;33m)\u001b[0m\u001b[1;33m\u001b[0m\u001b[1;33m\u001b[0m\u001b[0m\n\u001b[0m\u001b[0;32m    812\u001b[0m \u001b[1;33m\u001b[0m\u001b[0m\n\u001b[0;32m    813\u001b[0m     \u001b[1;32mdef\u001b[0m \u001b[0mclose\u001b[0m\u001b[1;33m(\u001b[0m\u001b[0mself\u001b[0m\u001b[1;33m)\u001b[0m\u001b[1;33m:\u001b[0m\u001b[1;33m\u001b[0m\u001b[1;33m\u001b[0m\u001b[0m\n",
      "\u001b[1;32m~\\anaconda3\\lib\\site-packages\\pandas\\io\\parsers\\readers.py\u001b[0m in \u001b[0;36m_make_engine\u001b[1;34m(self, engine)\u001b[0m\n\u001b[0;32m   1038\u001b[0m             )\n\u001b[0;32m   1039\u001b[0m         \u001b[1;31m# error: Too many arguments for \"ParserBase\"\u001b[0m\u001b[1;33m\u001b[0m\u001b[1;33m\u001b[0m\u001b[0m\n\u001b[1;32m-> 1040\u001b[1;33m         \u001b[1;32mreturn\u001b[0m \u001b[0mmapping\u001b[0m\u001b[1;33m[\u001b[0m\u001b[0mengine\u001b[0m\u001b[1;33m]\u001b[0m\u001b[1;33m(\u001b[0m\u001b[0mself\u001b[0m\u001b[1;33m.\u001b[0m\u001b[0mf\u001b[0m\u001b[1;33m,\u001b[0m \u001b[1;33m**\u001b[0m\u001b[0mself\u001b[0m\u001b[1;33m.\u001b[0m\u001b[0moptions\u001b[0m\u001b[1;33m)\u001b[0m  \u001b[1;31m# type: ignore[call-arg]\u001b[0m\u001b[1;33m\u001b[0m\u001b[1;33m\u001b[0m\u001b[0m\n\u001b[0m\u001b[0;32m   1041\u001b[0m \u001b[1;33m\u001b[0m\u001b[0m\n\u001b[0;32m   1042\u001b[0m     \u001b[1;32mdef\u001b[0m \u001b[0m_failover_to_python\u001b[0m\u001b[1;33m(\u001b[0m\u001b[0mself\u001b[0m\u001b[1;33m)\u001b[0m\u001b[1;33m:\u001b[0m\u001b[1;33m\u001b[0m\u001b[1;33m\u001b[0m\u001b[0m\n",
      "\u001b[1;32m~\\anaconda3\\lib\\site-packages\\pandas\\io\\parsers\\c_parser_wrapper.py\u001b[0m in \u001b[0;36m__init__\u001b[1;34m(self, src, **kwds)\u001b[0m\n\u001b[0;32m     49\u001b[0m \u001b[1;33m\u001b[0m\u001b[0m\n\u001b[0;32m     50\u001b[0m         \u001b[1;31m# open handles\u001b[0m\u001b[1;33m\u001b[0m\u001b[1;33m\u001b[0m\u001b[0m\n\u001b[1;32m---> 51\u001b[1;33m         \u001b[0mself\u001b[0m\u001b[1;33m.\u001b[0m\u001b[0m_open_handles\u001b[0m\u001b[1;33m(\u001b[0m\u001b[0msrc\u001b[0m\u001b[1;33m,\u001b[0m \u001b[0mkwds\u001b[0m\u001b[1;33m)\u001b[0m\u001b[1;33m\u001b[0m\u001b[1;33m\u001b[0m\u001b[0m\n\u001b[0m\u001b[0;32m     52\u001b[0m         \u001b[1;32massert\u001b[0m \u001b[0mself\u001b[0m\u001b[1;33m.\u001b[0m\u001b[0mhandles\u001b[0m \u001b[1;32mis\u001b[0m \u001b[1;32mnot\u001b[0m \u001b[1;32mNone\u001b[0m\u001b[1;33m\u001b[0m\u001b[1;33m\u001b[0m\u001b[0m\n\u001b[0;32m     53\u001b[0m \u001b[1;33m\u001b[0m\u001b[0m\n",
      "\u001b[1;32m~\\anaconda3\\lib\\site-packages\\pandas\\io\\parsers\\base_parser.py\u001b[0m in \u001b[0;36m_open_handles\u001b[1;34m(self, src, kwds)\u001b[0m\n\u001b[0;32m    220\u001b[0m         \u001b[0mLet\u001b[0m \u001b[0mthe\u001b[0m \u001b[0mreaders\u001b[0m \u001b[0mopen\u001b[0m \u001b[0mIOHandles\u001b[0m \u001b[0mafter\u001b[0m \u001b[0mthey\u001b[0m \u001b[0mare\u001b[0m \u001b[0mdone\u001b[0m \u001b[1;32mwith\u001b[0m \u001b[0mtheir\u001b[0m \u001b[0mpotential\u001b[0m \u001b[0mraises\u001b[0m\u001b[1;33m.\u001b[0m\u001b[1;33m\u001b[0m\u001b[1;33m\u001b[0m\u001b[0m\n\u001b[0;32m    221\u001b[0m         \"\"\"\n\u001b[1;32m--> 222\u001b[1;33m         self.handles = get_handle(\n\u001b[0m\u001b[0;32m    223\u001b[0m             \u001b[0msrc\u001b[0m\u001b[1;33m,\u001b[0m\u001b[1;33m\u001b[0m\u001b[1;33m\u001b[0m\u001b[0m\n\u001b[0;32m    224\u001b[0m             \u001b[1;34m\"r\"\u001b[0m\u001b[1;33m,\u001b[0m\u001b[1;33m\u001b[0m\u001b[1;33m\u001b[0m\u001b[0m\n",
      "\u001b[1;32m~\\anaconda3\\lib\\site-packages\\pandas\\io\\common.py\u001b[0m in \u001b[0;36mget_handle\u001b[1;34m(path_or_buf, mode, encoding, compression, memory_map, is_text, errors, storage_options)\u001b[0m\n\u001b[0;32m    700\u001b[0m         \u001b[1;32mif\u001b[0m \u001b[0mioargs\u001b[0m\u001b[1;33m.\u001b[0m\u001b[0mencoding\u001b[0m \u001b[1;32mand\u001b[0m \u001b[1;34m\"b\"\u001b[0m \u001b[1;32mnot\u001b[0m \u001b[1;32min\u001b[0m \u001b[0mioargs\u001b[0m\u001b[1;33m.\u001b[0m\u001b[0mmode\u001b[0m\u001b[1;33m:\u001b[0m\u001b[1;33m\u001b[0m\u001b[1;33m\u001b[0m\u001b[0m\n\u001b[0;32m    701\u001b[0m             \u001b[1;31m# Encoding\u001b[0m\u001b[1;33m\u001b[0m\u001b[1;33m\u001b[0m\u001b[0m\n\u001b[1;32m--> 702\u001b[1;33m             handle = open(\n\u001b[0m\u001b[0;32m    703\u001b[0m                 \u001b[0mhandle\u001b[0m\u001b[1;33m,\u001b[0m\u001b[1;33m\u001b[0m\u001b[1;33m\u001b[0m\u001b[0m\n\u001b[0;32m    704\u001b[0m                 \u001b[0mioargs\u001b[0m\u001b[1;33m.\u001b[0m\u001b[0mmode\u001b[0m\u001b[1;33m,\u001b[0m\u001b[1;33m\u001b[0m\u001b[1;33m\u001b[0m\u001b[0m\n",
      "\u001b[1;31mFileNotFoundError\u001b[0m: [Errno 2] No such file or directory: 'students_adaptability_level_online_education.csv'"
     ]
    }
   ],
   "source": [
    "df = pd.read_csv('students_adaptability_level_online_education.csv')\n",
    "df.pop('Class Duration')\n",
    "df.head(5)"
   ]
  },
  {
   "cell_type": "markdown",
   "id": "3535bd76",
   "metadata": {},
   "source": [
    "- Removemos a coluna \"Class Duration\" porque a métrica utilizada nessa coluna é incerta\n",
    "\n",
    "---"
   ]
  },
  {
   "cell_type": "code",
   "execution_count": null,
   "id": "43de341e",
   "metadata": {},
   "outputs": [],
   "source": [
    "df.isna().any()"
   ]
  },
  {
   "cell_type": "markdown",
   "id": "a3f19290",
   "metadata": {},
   "source": [
    "- O dataset não possui valores *NaN*\n",
    "\n",
    "---"
   ]
  },
  {
   "cell_type": "code",
   "execution_count": null,
   "id": "852ae6f6",
   "metadata": {},
   "outputs": [],
   "source": [
    "le = LabelEncoder()\n",
    "df_fact = df.apply(le.fit_transform)\n",
    "df_fact.head(5)"
   ]
  },
  {
   "cell_type": "code",
   "execution_count": null,
   "id": "ea7f7180",
   "metadata": {},
   "outputs": [],
   "source": [
    "df_fact.dtypes"
   ]
  },
  {
   "cell_type": "markdown",
   "id": "b68e1594",
   "metadata": {},
   "source": [
    "- Aqui estamos 'rotulando' o dataset. O modelo KNN não consegue trabalhar com strings(palavras), portanto precisamos transformá-las em números para se tornarem 'legíveis' para a máquina.\n",
    "\n",
    "---"
   ]
  },
  {
   "cell_type": "code",
   "execution_count": null,
   "id": "1cfb7964",
   "metadata": {},
   "outputs": [],
   "source": [
    "# Normalizando todos os valores de 'df_fact', exceto a coluna 'Adaptivity Level', que é o Target\n",
    "scaler = StandardScaler()\n",
    "df_norm = scaler.fit_transform(df_fact.loc[:, df_fact.columns != \"Adaptivity Level\"])\n",
    "df_norm"
   ]
  },
  {
   "cell_type": "markdown",
   "id": "77b33469",
   "metadata": {},
   "source": [
    "- Normalizar as features do dataset costuma ajudar no treinamento e geralmente aumenta um pouco a precisão do modelo\n",
    "\n",
    "---"
   ]
  },
  {
   "cell_type": "markdown",
   "id": "edc3c6f6",
   "metadata": {},
   "source": [
    "# Treinamento do Modelo"
   ]
  },
  {
   "cell_type": "code",
   "execution_count": null,
   "id": "7d8acf88",
   "metadata": {},
   "outputs": [],
   "source": [
    "# Separando as features e o target\n",
    "X = df_norm\n",
    "y = df_fact['Adaptivity Level']"
   ]
  },
  {
   "cell_type": "code",
   "execution_count": null,
   "id": "2298631d",
   "metadata": {},
   "outputs": [],
   "source": [
    "# Separando os dados de treino e de teste (70/30)\n",
    "X_train, X_test, y_train, y_test = train_test_split(X, y, test_size=0.3, random_state = 109)"
   ]
  },
  {
   "cell_type": "markdown",
   "id": "a37b3c28",
   "metadata": {},
   "source": [
    "- Separamos as **features** ( \"características\" de cada estudante) e o **target**( \"resultado\" da classificação) em **X** e **Y**, respectivamente.   \n",
    "      \n",
    "- Utilizamos uma função do ScikitLearn chamada **TrainTestSplit**, que separa os dados em dados de treino do modelo e em dados para testar o modelo. A proporção é de **70/30%**, respectivamente. O \"**random_state**\" serve para manter os dados de treinamento e teste iguais em todas as vezes que o comando for executado, caso contrário, os dados de treino e teste seriam aleatorizados e a precisão do modelo oscilaria.\n",
    "\n",
    "---"
   ]
  },
  {
   "cell_type": "markdown",
   "id": "f0c49669",
   "metadata": {},
   "source": [
    "### Métricas de Desempenho"
   ]
  },
  {
   "cell_type": "code",
   "execution_count": null,
   "id": "2c6c6e0b",
   "metadata": {},
   "outputs": [],
   "source": [
    "precisao = {}\n",
    "\n",
    "def metricas(k, metrica):\n",
    "    for i in range(1, 21):\n",
    "        knn = KNeighborsClassifier(n_neighbors=k)\n",
    "        knn.fit(X_train,y_train)\n",
    "        y_pred = knn.predict(X_test)\n",
    "        if metrica == accuracy_score:\n",
    "            precisao.update({k:round(metrica(y_test, y_pred), 3)})\n",
    "        elif metrica == fbeta_score:\n",
    "            precisao.update({k:round(metrica(y_test, y_pred, average = 'macro', beta=1.0), 3)})\n",
    "        else:\n",
    "            precisao.update({k:round(metrica(y_test, y_pred, average = 'macro'), 3)})\n",
    "        k += 1\n",
    "    print('k =',max(precisao, key=precisao.get),'/', max(precisao.values()))"
   ]
  },
  {
   "cell_type": "markdown",
   "id": "0b1c735a",
   "metadata": {},
   "source": [
    "- Aqui utilizamos uma função para testar a variável K com todos os números de 1 a 15, para assim sabermos qual o valor de K trará a maior precisão\n",
    "\n",
    "---"
   ]
  },
  {
   "cell_type": "markdown",
   "id": "ebe63e17",
   "metadata": {},
   "source": [
    "- **Precisão**"
   ]
  },
  {
   "cell_type": "code",
   "execution_count": null,
   "id": "dd534893",
   "metadata": {},
   "outputs": [],
   "source": [
    "metricas(1, precision_score)"
   ]
  },
  {
   "cell_type": "markdown",
   "id": "6eea7d89",
   "metadata": {},
   "source": [
    "- **Acurácia**"
   ]
  },
  {
   "cell_type": "code",
   "execution_count": null,
   "id": "72e90447",
   "metadata": {},
   "outputs": [],
   "source": [
    "metricas(1, accuracy_score)"
   ]
  },
  {
   "cell_type": "markdown",
   "id": "81bb01e7",
   "metadata": {},
   "source": [
    "- **Recall**"
   ]
  },
  {
   "cell_type": "code",
   "execution_count": null,
   "id": "0ecbbbe7",
   "metadata": {},
   "outputs": [],
   "source": [
    "metricas(1, recall_score)"
   ]
  },
  {
   "cell_type": "markdown",
   "id": "93d2b2d7",
   "metadata": {},
   "source": [
    "- **F-Beta**"
   ]
  },
  {
   "cell_type": "code",
   "execution_count": null,
   "id": "82d7c3c8",
   "metadata": {},
   "outputs": [],
   "source": [
    "metricas(1, fbeta_score)"
   ]
  },
  {
   "cell_type": "markdown",
   "id": "26e4ec0b",
   "metadata": {},
   "source": [
    "---\n",
    "\n",
    "**Obs: Para validação cruzada e para a matriz de confusão, o valor de K utilizado é 3**"
   ]
  },
  {
   "cell_type": "markdown",
   "id": "7460fd7e",
   "metadata": {},
   "source": [
    "- **Validação Cruzada**"
   ]
  },
  {
   "cell_type": "code",
   "execution_count": null,
   "id": "8af0e775",
   "metadata": {},
   "outputs": [],
   "source": [
    "knn = KNeighborsClassifier(n_neighbors=3)\n",
    "knn.fit(X_train,y_train)\n",
    "y_pred = knn.predict(X_test)"
   ]
  },
  {
   "cell_type": "code",
   "execution_count": null,
   "id": "2fd58efa",
   "metadata": {},
   "outputs": [],
   "source": [
    "k_folds = KFold(n_splits = 5)\n",
    "\n",
    "scores = cross_val_score(knn, X, y, cv = k_folds)\n",
    "\n",
    "print(scores)"
   ]
  },
  {
   "cell_type": "markdown",
   "id": "08f69714",
   "metadata": {},
   "source": [
    "- **Matriz de Confusão**"
   ]
  },
  {
   "cell_type": "code",
   "execution_count": null,
   "id": "b863b3cc",
   "metadata": {},
   "outputs": [],
   "source": [
    "confusion_matrix = metrics.confusion_matrix(y_test, y_pred)\n",
    "\n",
    "cm_display = metrics.ConfusionMatrixDisplay(confusion_matrix = confusion_matrix, display_labels = ['High','Low','Moderate'])\n",
    "\n",
    "cm_display.plot()\n",
    "plt.show() "
   ]
  },
  {
   "cell_type": "markdown",
   "id": "30d40fea",
   "metadata": {},
   "source": [
    "---\n",
    "\n",
    "# Visualização dos Dados"
   ]
  },
  {
   "cell_type": "markdown",
   "id": "9ed103fe",
   "metadata": {},
   "source": [
    "- **Matriz de Correlação entre as Variáveis**"
   ]
  },
  {
   "cell_type": "code",
   "execution_count": null,
   "id": "ded1ea33",
   "metadata": {},
   "outputs": [],
   "source": [
    "def matriz_de_confusão(data):\n",
    "    # init figure size\n",
    "    rcParams['figure.figsize'] = 10, 10\n",
    "    fig = plt.figure()\n",
    "    sns.heatmap(data.corr(), annot=True, fmt=\".2f\")\n",
    "    plt.show()\n",
    "    #fig.savefig('corr.png')\n",
    "\n",
    "matriz_de_confusão(df_fact)"
   ]
  },
  {
   "cell_type": "markdown",
   "id": "14bcaf1c",
   "metadata": {},
   "source": [
    "# Conclusão"
   ]
  },
  {
   "cell_type": "markdown",
   "id": "96dbbeb7",
   "metadata": {},
   "source": [
    "O KNN é considerado um modelo simples e fácil de entender, com treinamento rápido e pouca exigência computacional, o que torna o K-Nearest Neighbors recomendado para hardwares limitados. Porém, essa simplicidade sacrifica um pouco da precisão do modelo tornando-o menos atrativo para o uso empresarial/científico.\n",
    "Nos dias de hoje, o modelo KNN fica em segundo plano, já que o poder computacional não é mais um problema como era antigamente, o que dá mais espaço à modelos mais robustos (e mais precisos)."
   ]
  },
  {
   "cell_type": "markdown",
   "id": "90f307c4",
   "metadata": {},
   "source": [
    "---"
   ]
  }
 ],
 "metadata": {
  "kernelspec": {
   "display_name": "Python 3 (ipykernel)",
   "language": "python",
   "name": "python3"
  },
  "language_info": {
   "codemirror_mode": {
    "name": "ipython",
    "version": 3
   },
   "file_extension": ".py",
   "mimetype": "text/x-python",
   "name": "python",
   "nbconvert_exporter": "python",
   "pygments_lexer": "ipython3",
   "version": "3.9.7"
  }
 },
 "nbformat": 4,
 "nbformat_minor": 5
}
